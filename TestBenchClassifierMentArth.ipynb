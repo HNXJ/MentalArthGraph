{
  "nbformat": 4,
  "nbformat_minor": 0,
  "metadata": {
    "accelerator": "GPU",
    "colab": {
      "name": "TestBenchClassifierMentArth.ipynb",
      "provenance": [],
      "collapsed_sections": [],
      "toc_visible": true
    },
    "kernelspec": {
      "display_name": "Python 3",
      "language": "python",
      "name": "python3"
    },
    "language_info": {
      "codemirror_mode": {
        "name": "ipython",
        "version": 3
      },
      "file_extension": ".py",
      "mimetype": "text/x-python",
      "name": "python",
      "nbconvert_exporter": "python",
      "pygments_lexer": "ipython3",
      "version": "3.7.6"
    },
    "varInspector": {
      "cols": {
        "lenName": 16,
        "lenType": 16,
        "lenVar": 40
      },
      "kernels_config": {
        "python": {
          "delete_cmd_postfix": "",
          "delete_cmd_prefix": "del ",
          "library": "var_list.py",
          "varRefreshCmd": "print(var_dic_list())"
        },
        "r": {
          "delete_cmd_postfix": ") ",
          "delete_cmd_prefix": "rm(",
          "library": "var_list.r",
          "varRefreshCmd": "cat(var_dic_list()) "
        }
      },
      "types_to_exclude": [
        "module",
        "function",
        "builtin_function_or_method",
        "instance",
        "_Feature"
      ],
      "window_display": false
    }
  },
  "cells": [
    {
      "cell_type": "markdown",
      "metadata": {
        "id": "p-SbY0f44ca5"
      },
      "source": [
        "# Deep classifier and feature extractor for EEGMAT dataset\n",
        "\n",
        "#### HNXJ@github\n",
        "\n",
        "Preparations:\n",
        "\n",
        "In this section, you can see the implementation of Dataset and Deepmodel classes for further usages.\n"
      ]
    },
    {
      "cell_type": "code",
      "metadata": {
        "colab": {
          "base_uri": "https://localhost:8080/"
        },
        "id": "wfv42OxJ4cbJ",
        "outputId": "226d4bd0-ab9b-4fd6-ca9d-2aa9f5a999d3"
      },
      "source": [
        "# !pip install pyedflib\n",
        "# !pip install wget\n",
        "\n",
        "from GraphMethods import *\n",
        "from DeepFeature import *\n",
        "import numpy as np\n",
        "\n",
        "\n",
        "# Channel initialization\n",
        "chs2 = [0, 1, 2, 6, 7, 12, 13, 14, 15, 16, 17]\n",
        "chs1 = []\n",
        "for i in range(20): \n",
        "    chs1.append(i)\n",
        "\n",
        "\n",
        "# Data loading and preprocessing\n",
        "# chs0 = chs1\n",
        "fname = \"/content/EEGMA/eeg-during-mental-arithmetic-tasks-1.0.0/\"\n",
        "dataset1 = PhysionetDataset(foldername=fname, filter_order=2, lbf=40, ubf=80, download=True, download_colab=False)\n",
        "# dataset1 = PhysionetDataset(foldername=fname, filter_order=2, lbf=40, ubf=80, download=True, download_colab=True)"
      ],
      "execution_count": null,
      "outputs": [
        {
          "output_type": "stream",
          "text": [
            "/usr/local/lib/python3.7/dist-packages/statsmodels/tools/_testing.py:19: FutureWarning: pandas.util.testing is deprecated. Use the functions in the public API at pandas.testing instead.\n",
            "  import pandas.util.testing as tm\n"
          ],
          "name": "stderr"
        },
        {
          "output_type": "stream",
          "text": [
            "Downloading...\n"
          ],
          "name": "stdout"
        },
        {
          "output_type": "stream",
          "text": [
            "Reading Channels: 100%|██████████| 21/21 [00:00<00:00, 644.01it/s]"
          ],
          "name": "stderr"
        },
        {
          "output_type": "stream",
          "text": [
            "File extraction complete.\n",
            "Download complete.\n"
          ],
          "name": "stdout"
        },
        {
          "output_type": "stream",
          "text": [
            "\n",
            "Reading Channels: 100%|██████████| 21/21 [00:00<00:00, 582.22it/s]\n",
            "Reading Channels: 100%|██████████| 21/21 [00:00<00:00, 692.94it/s]\n",
            "Reading Channels: 100%|██████████| 21/21 [00:00<00:00, 657.72it/s]\n",
            "Reading Channels: 100%|██████████| 21/21 [00:00<00:00, 702.28it/s]\n",
            "Reading Channels: 100%|██████████| 21/21 [00:00<00:00, 637.53it/s]\n",
            "Reading Channels: 100%|██████████| 21/21 [00:00<00:00, 601.69it/s]\n",
            "Reading Channels: 100%|██████████| 21/21 [00:00<00:00, 595.44it/s]\n",
            "Reading Channels: 100%|██████████| 21/21 [00:00<00:00, 627.42it/s]\n",
            "Reading Channels: 100%|██████████| 21/21 [00:00<00:00, 654.43it/s]\n",
            "Reading Channels: 100%|██████████| 21/21 [00:00<00:00, 656.71it/s]\n",
            "Reading Channels: 100%|██████████| 21/21 [00:00<00:00, 694.06it/s]\n",
            "Reading Channels: 100%|██████████| 21/21 [00:00<00:00, 651.99it/s]\n",
            "Reading Channels: 100%|██████████| 21/21 [00:00<00:00, 623.81it/s]\n",
            "Reading Channels: 100%|██████████| 21/21 [00:00<00:00, 670.02it/s]\n",
            "Reading Channels: 100%|██████████| 21/21 [00:00<00:00, 689.83it/s]\n",
            "Reading Channels: 100%|██████████| 21/21 [00:00<00:00, 623.45it/s]\n",
            "Reading Channels: 100%|██████████| 21/21 [00:00<00:00, 599.88it/s]\n",
            "Reading Channels: 100%|██████████| 21/21 [00:00<00:00, 696.74it/s]\n",
            "Reading Channels: 100%|██████████| 21/21 [00:00<00:00, 690.62it/s]\n",
            "Reading Channels: 100%|██████████| 21/21 [00:00<00:00, 662.55it/s]\n",
            "Reading Channels: 100%|██████████| 21/21 [00:00<00:00, 635.31it/s]\n",
            "Reading Channels: 100%|██████████| 21/21 [00:00<00:00, 684.53it/s]\n",
            "Reading Channels: 100%|██████████| 21/21 [00:00<00:00, 639.73it/s]\n",
            "Reading Channels: 100%|██████████| 21/21 [00:00<00:00, 656.82it/s]\n",
            "Reading Channels: 100%|██████████| 21/21 [00:00<00:00, 588.70it/s]\n",
            "Reading Channels: 100%|██████████| 21/21 [00:00<00:00, 664.28it/s]\n",
            "Reading Channels: 100%|██████████| 21/21 [00:00<00:00, 591.83it/s]\n",
            "Reading Channels: 100%|██████████| 21/21 [00:00<00:00, 692.84it/s]\n",
            "Reading Channels: 100%|██████████| 21/21 [00:00<00:00, 674.59it/s]\n",
            "Reading Channels: 100%|██████████| 21/21 [00:00<00:00, 695.17it/s]\n",
            "Reading Channels: 100%|██████████| 21/21 [00:00<00:00, 639.62it/s]\n",
            "Reading Channels: 100%|██████████| 21/21 [00:00<00:00, 579.21it/s]\n",
            "Reading Channels: 100%|██████████| 21/21 [00:00<00:00, 678.26it/s]\n",
            "Reading Channels: 100%|██████████| 21/21 [00:00<00:00, 652.54it/s]\n"
          ],
          "name": "stderr"
        }
      ]
    },
    {
      "cell_type": "code",
      "metadata": {
        "colab": {
          "base_uri": "https://localhost:8080/"
        },
        "id": "o4mQaBsLzvKs",
        "outputId": "9236b0f0-bfdb-4c70-8d5c-10ead4f06f7a"
      },
      "source": [
        "dataset2 = SampleDataset()\n",
        "ds, ds_pearson, ds_spectral = datasets_preparation(frames=4, order=4, cf1=25, cf2=35, fname=fname)\n",
        "ds_p0, ds_p1 = split_count_quality(ds_pearson, id1=\"0\", id2=\"1\")\n",
        "ds_s0, ds_s1 = split_count_quality(ds_spectral, id1=\"0\", id2=\"1\")"
      ],
      "execution_count": null,
      "outputs": [
        {
          "output_type": "stream",
          "text": [
            "Reading Channels: 100%|██████████| 21/21 [00:00<00:00, 681.19it/s]\n",
            "Reading Channels: 100%|██████████| 21/21 [00:00<00:00, 679.18it/s]\n",
            "Reading Channels: 100%|██████████| 21/21 [00:00<00:00, 664.83it/s]\n",
            "Reading Channels: 100%|██████████| 21/21 [00:00<00:00, 690.62it/s]\n",
            "Reading Channels: 100%|██████████| 21/21 [00:00<00:00, 685.59it/s]\n",
            "Reading Channels:   0%|          | 0/21 [00:00<?, ?it/s]"
          ],
          "name": "stderr"
        },
        {
          "output_type": "stream",
          "text": [
            "\n",
            " Number of subtractions  |  Subject00  |  9.7\n",
            "######## --- > \n",
            "\n",
            " Number of subtractions  |  Subject01  |  29.35\n",
            "######## --- > \n",
            "\n",
            " Number of subtractions  |  Subject02  |  12.88\n",
            "######## --- > \n",
            "\n",
            " Number of subtractions  |  Subject03  |  31\n",
            "######## --- > \n",
            "\n",
            " Number of subtractions  |  Subject04  |  8.6\n",
            "######## --- > \n"
          ],
          "name": "stdout"
        },
        {
          "output_type": "stream",
          "text": [
            "Reading Channels: 100%|██████████| 21/21 [00:00<00:00, 653.39it/s]\n",
            "Reading Channels: 100%|██████████| 21/21 [00:00<00:00, 648.48it/s]\n",
            "Reading Channels: 100%|██████████| 21/21 [00:00<00:00, 708.43it/s]\n",
            "Reading Channels: 100%|██████████| 21/21 [00:00<00:00, 710.94it/s]\n",
            "Reading Channels: 100%|██████████| 21/21 [00:00<00:00, 685.75it/s]\n",
            "Reading Channels:   0%|          | 0/21 [00:00<?, ?it/s]"
          ],
          "name": "stderr"
        },
        {
          "output_type": "stream",
          "text": [
            "\n",
            " Number of subtractions  |  Subject05  |  20.71\n",
            "######## --- > \n",
            "\n",
            " Number of subtractions  |  Subject06  |  4.35\n",
            "######## --- > \n",
            "\n",
            " Number of subtractions  |  Subject07  |  13.38\n",
            "######## --- > \n",
            "\n",
            " Number of subtractions  |  Subject08  |  18.24\n",
            "######## --- > \n",
            "\n",
            " Number of subtractions  |  Subject09  |  7\n",
            "######## --- > \n"
          ],
          "name": "stdout"
        },
        {
          "output_type": "stream",
          "text": [
            "Reading Channels: 100%|██████████| 21/21 [00:00<00:00, 639.35it/s]\n",
            "Reading Channels: 100%|██████████| 21/21 [00:00<00:00, 623.02it/s]\n",
            "Reading Channels: 100%|██████████| 21/21 [00:00<00:00, 668.46it/s]\n",
            "Reading Channels: 100%|██████████| 21/21 [00:00<00:00, 662.24it/s]\n",
            "Reading Channels: 100%|██████████| 21/21 [00:00<00:00, 661.68it/s]\n",
            "Reading Channels:   0%|          | 0/21 [00:00<?, ?it/s]"
          ],
          "name": "stderr"
        },
        {
          "output_type": "stream",
          "text": [
            "\n",
            " Number of subtractions  |  Subject10  |  1\n",
            "######## --- > \n",
            "\n",
            " Number of subtractions  |  Subject11  |  26\n",
            "######## --- > \n",
            "\n",
            " Number of subtractions  |  Subject12  |  26.36\n",
            "######## --- > \n",
            "\n",
            " Number of subtractions  |  Subject13  |  34\n",
            "######## --- > \n",
            "\n",
            " Number of subtractions  |  Subject14  |  9\n",
            "######## --- > \n"
          ],
          "name": "stdout"
        },
        {
          "output_type": "stream",
          "text": [
            "Reading Channels: 100%|██████████| 21/21 [00:00<00:00, 660.84it/s]\n",
            "Reading Channels: 100%|██████████| 21/21 [00:00<00:00, 650.53it/s]\n",
            "Reading Channels: 100%|██████████| 21/21 [00:00<00:00, 615.25it/s]\n",
            "Reading Channels: 100%|██████████| 21/21 [00:00<00:00, 669.86it/s]\n",
            "Reading Channels: 100%|██████████| 21/21 [00:00<00:00, 685.95it/s]\n",
            "Reading Channels:   0%|          | 0/21 [00:00<?, ?it/s]"
          ],
          "name": "stderr"
        },
        {
          "output_type": "stream",
          "text": [
            "\n",
            " Number of subtractions  |  Subject15  |  22.18\n",
            "######## --- > \n",
            "\n",
            " Number of subtractions  |  Subject16  |  11.59\n",
            "######## --- > \n",
            "\n",
            " Number of subtractions  |  Subject17  |  28.7\n",
            "######## --- > \n",
            "\n",
            " Number of subtractions  |  Subject18  |  20\n",
            "######## --- > \n",
            "\n",
            " Number of subtractions  |  Subject19  |  7.06\n",
            "######## --- > \n"
          ],
          "name": "stdout"
        },
        {
          "output_type": "stream",
          "text": [
            "Reading Channels: 100%|██████████| 21/21 [00:00<00:00, 657.17it/s]\n",
            "Reading Channels: 100%|██████████| 21/21 [00:00<00:00, 718.47it/s]\n",
            "Reading Channels: 100%|██████████| 21/21 [00:00<00:00, 655.06it/s]\n",
            "Reading Channels: 100%|██████████| 21/21 [00:00<00:00, 668.16it/s]\n",
            "Reading Channels: 100%|██████████| 21/21 [00:00<00:00, 607.50it/s]\n",
            "Reading Channels:   0%|          | 0/21 [00:00<?, ?it/s]"
          ],
          "name": "stderr"
        },
        {
          "output_type": "stream",
          "text": [
            "\n",
            " Number of subtractions  |  Subject20  |  15.41\n",
            "######## --- > \n",
            "\n",
            " Number of subtractions  |  Subject21  |  1\n",
            "######## --- > \n",
            "\n",
            " Number of subtractions  |  Subject22  |  4.47\n",
            "######## --- > \n",
            "\n",
            " Number of subtractions  |  Subject23  |  27.47\n",
            "######## --- > \n",
            "\n",
            " Number of subtractions  |  Subject24  |  14.76\n",
            "######## --- > \n"
          ],
          "name": "stdout"
        },
        {
          "output_type": "stream",
          "text": [
            "Reading Channels: 100%|██████████| 21/21 [00:00<00:00, 664.41it/s]\n",
            "Reading Channels: 100%|██████████| 21/21 [00:00<00:00, 584.70it/s]\n",
            "Reading Channels: 100%|██████████| 21/21 [00:00<00:00, 688.61it/s]\n",
            "Reading Channels: 100%|██████████| 21/21 [00:00<00:00, 674.78it/s]\n",
            "Reading Channels: 100%|██████████| 21/21 [00:00<00:00, 670.82it/s]\n",
            "Reading Channels:   0%|          | 0/21 [00:00<?, ?it/s]"
          ],
          "name": "stderr"
        },
        {
          "output_type": "stream",
          "text": [
            "\n",
            " Number of subtractions  |  Subject25  |  30.53\n",
            "######## --- > \n",
            "\n",
            " Number of subtractions  |  Subject26  |  13.59\n",
            "######## --- > \n",
            "\n",
            " Number of subtractions  |  Subject27  |  34.59\n",
            "######## --- > \n",
            "\n",
            " Number of subtractions  |  Subject28  |  27\n",
            "######## --- > \n",
            "\n",
            " Number of subtractions  |  Subject29  |  16.59\n",
            "######## --- > \n"
          ],
          "name": "stdout"
        },
        {
          "output_type": "stream",
          "text": [
            "Reading Channels: 100%|██████████| 21/21 [00:00<00:00, 547.57it/s]\n",
            "Reading Channels: 100%|██████████| 21/21 [00:00<00:00, 592.69it/s]\n",
            "Reading Channels: 100%|██████████| 21/21 [00:00<00:00, 616.21it/s]\n",
            "Reading Channels: 100%|██████████| 21/21 [00:00<00:00, 635.28it/s]\n",
            "Reading Channels: 100%|██████████| 21/21 [00:00<00:00, 746.24it/s]\n"
          ],
          "name": "stderr"
        },
        {
          "output_type": "stream",
          "text": [
            "\n",
            " Number of subtractions  |  Subject30  |  10\n",
            "######## --- > \n",
            "\n",
            " Number of subtractions  |  Subject31  |  19.88\n",
            "######## --- > \n",
            "\n",
            " Number of subtractions  |  Subject32  |  13\n",
            "######## --- > \n",
            "\n",
            " Number of subtractions  |  Subject33  |  21.47\n",
            "######## --- > \n",
            "\n",
            " Number of subtractions  |  Subject34  |  31\n",
            "######## --- > \n"
          ],
          "name": "stdout"
        },
        {
          "output_type": "stream",
          "text": [
            "Reading Channels: 100%|██████████| 21/21 [00:00<00:00, 699.37it/s]\n"
          ],
          "name": "stderr"
        },
        {
          "output_type": "stream",
          "text": [
            "\n",
            " Number of subtractions  |  Subject35  |  12.18\n",
            "######## --- > \n",
            "Stablishing sets, \n",
            "Preprocessing subject no.0\n",
            "Preprocessing subject no.5\n",
            "Preprocessing subject no.10\n",
            "Preprocessing subject no.15\n",
            "Preprocessing subject no.20\n",
            "Preprocessing subject no.25\n",
            "Preprocessing subject no.30\n",
            "Preprocessing subject no.35\n",
            "Pearson done.\n",
            "Preprocessing subject no.0\n",
            "Preprocessing subject no.5\n",
            "Preprocessing subject no.10\n",
            "Preprocessing subject no.15\n",
            "Preprocessing subject no.20\n",
            "Preprocessing subject no.25\n",
            "Preprocessing subject no.30\n",
            "Preprocessing subject no.35\n",
            "Spectral done.\n"
          ],
          "name": "stdout"
        }
      ]
    },
    {
      "cell_type": "code",
      "metadata": {
        "id": "sF8-qHsFQtPo"
      },
      "source": [
        "cnt = 0"
      ],
      "execution_count": null,
      "outputs": []
    },
    {
      "cell_type": "code",
      "metadata": {
        "colab": {
          "base_uri": "https://localhost:8080/"
        },
        "id": "FKkgUmBvlokv",
        "outputId": "3f33f331-c9b3-46dd-9ef4-b0e94c927934"
      },
      "source": [
        "## TTest data extract\n",
        "def shuffler(x, y):\n",
        "    n = x.shape[0]\n",
        "    k = np.random.permutation(n)\n",
        "    x1 = np.zeros(x.shape)\n",
        "    y1 = np.zeros(y.shape)\n",
        "    for i in range(n):\n",
        "        x1[i, :] = x[k[i], :]\n",
        "        y1[i, :] = y[k[i], :]\n",
        "    \n",
        "    return x1, y1\n",
        "\n",
        "\n",
        "x, y = get_dataset_cor1(ds_s0, ds_s1, 1)\n",
        "# x, y = get_dataset_cor2(ds_s0, ds_s1, 4)\n",
        "\n",
        "in_shape = x.shape\n",
        "print(x.shape)\n",
        "x, y = shuffler(x, y)\n",
        "dataset2.X = x[:, 2:26]\n",
        "dataset2.Y = y[:, :]\n",
        "# classifier1 = DeepModel2(input_size=in_shape, dataset=dataset2)\n",
        "cnt += 1\n",
        "classifier1.train(1, 4, val=0.2, lr=0.00001)\n",
        "print(\"EPCH: \", cnt)"
      ],
      "execution_count": null,
      "outputs": [
        {
          "output_type": "stream",
          "text": [
            "(20, 60)\n",
            "GPU is activated\n",
            "1/4 [======>.......................] - ETA: 0s - loss: 0.4777 - binary_accuracy: 0.7500WARNING:tensorflow:11 out of the last 11 calls to <function Model.make_test_function.<locals>.test_function at 0x7fd364540d40> triggered tf.function retracing. Tracing is expensive and the excessive number of tracings could be due to (1) creating @tf.function repeatedly in a loop, (2) passing tensors with different shapes, (3) passing Python objects instead of tensors. For (1), please define your @tf.function outside of the loop. For (2), @tf.function has experimental_relax_shapes=True option that relaxes argument shapes that can avoid unnecessary retracing. For (3), please refer to https://www.tensorflow.org/guide/function#controlling_retracing and https://www.tensorflow.org/api_docs/python/tf/function for  more details.\n",
            "4/4 [==============================] - 0s 48ms/step - loss: 0.4999 - binary_accuracy: 0.8083 - val_loss: 0.4701 - val_binary_accuracy: 0.7500\n",
            "EPCH:  14\n"
          ],
          "name": "stdout"
        }
      ]
    },
    {
      "cell_type": "code",
      "metadata": {
        "colab": {
          "base_uri": "https://localhost:8080/"
        },
        "id": "WPg3-thdtaCa",
        "outputId": "bbb9bfc9-9157-4db3-9017-3c25945c8489"
      },
      "source": [
        "print(np.ceil(classifier1.encoder(dataset2.X) - 0.5), '\\n', dataset2.Y)"
      ],
      "execution_count": null,
      "outputs": [
        {
          "output_type": "stream",
          "text": [
            "[[-0.  1.]\n",
            " [-0. -0.]\n",
            " [ 1. -0.]\n",
            " [-0.  1.]\n",
            " [-0.  1.]\n",
            " [-0.  1.]\n",
            " [-0.  1.]\n",
            " [-0.  1.]\n",
            " [-0.  1.]\n",
            " [-0.  1.]\n",
            " [-0.  1.]\n",
            " [ 1. -0.]\n",
            " [-0.  1.]\n",
            " [ 1. -0.]\n",
            " [ 1. -0.]\n",
            " [ 1. -0.]\n",
            " [ 1. -0.]\n",
            " [-0.  1.]\n",
            " [ 1. -0.]\n",
            " [-0.  1.]] \n",
            " [[0. 1.]\n",
            " [1. 0.]\n",
            " [1. 0.]\n",
            " [0. 1.]\n",
            " [1. 0.]\n",
            " [0. 1.]\n",
            " [0. 1.]\n",
            " [1. 0.]\n",
            " [0. 1.]\n",
            " [0. 1.]\n",
            " [0. 1.]\n",
            " [1. 0.]\n",
            " [0. 1.]\n",
            " [1. 0.]\n",
            " [1. 0.]\n",
            " [1. 0.]\n",
            " [1. 0.]\n",
            " [0. 1.]\n",
            " [0. 1.]\n",
            " [0. 1.]]\n"
          ],
          "name": "stdout"
        }
      ]
    },
    {
      "cell_type": "code",
      "metadata": {
        "colab": {
          "base_uri": "https://localhost:8080/"
        },
        "id": "rP690LGDthEM",
        "outputId": "dfc754df-6f04-4b06-d0fe-5a8ae87cce1e"
      },
      "source": [
        "print(dataset2.X.shape, dataset2.Y.shape)"
      ],
      "execution_count": null,
      "outputs": [
        {
          "output_type": "stream",
          "text": [
            "(20, 25) (20, 2)\n"
          ],
          "name": "stdout"
        }
      ]
    },
    {
      "cell_type": "code",
      "metadata": {
        "colab": {
          "base_uri": "https://localhost:8080/"
        },
        "id": "FstpmTwJ9g01",
        "outputId": "15c4b4e9-2592-49a5-f409-4f779c02ef6f"
      },
      "source": [
        "k = np.random.permutation(1)\n",
        "print(k)"
      ],
      "execution_count": null,
      "outputs": [
        {
          "output_type": "stream",
          "text": [
            "[0]\n"
          ],
          "name": "stdout"
        }
      ]
    },
    {
      "cell_type": "code",
      "metadata": {
        "id": "d6BUJz27HG0E"
      },
      "source": [
        ""
      ],
      "execution_count": null,
      "outputs": []
    }
  ]
}